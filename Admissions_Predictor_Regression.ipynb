{
  "nbformat": 4,
  "nbformat_minor": 0,
  "metadata": {
    "colab": {
      "name": "Admissions Predictor Regression.ipynb",
      "provenance": [],
      "collapsed_sections": []
    },
    "kernelspec": {
      "name": "python3",
      "display_name": "Python 3"
    },
    "language_info": {
      "name": "python"
    }
  },
  "cells": [
    {
      "cell_type": "code",
      "execution_count": 1,
      "metadata": {
        "id": "l9K9cG5iVUAW"
      },
      "outputs": [],
      "source": [
        "import numpy as np\n",
        "import pandas as pd\n",
        "\n",
        "import warnings\n",
        "warnings.filterwarnings('ignore')\n",
        "# To prevent warnings from getting printed"
      ]
    },
    {
      "cell_type": "code",
      "source": [
        "data = pd.read_csv('./Admission Predict.csv')\n",
        "data.head()"
      ],
      "metadata": {
        "colab": {
          "base_uri": "https://localhost:8080/",
          "height": 206
        },
        "id": "A6H_Pl1jVkFC",
        "outputId": "0206ec18-56eb-4a06-de93-c1f6d578133d"
      },
      "execution_count": 2,
      "outputs": [
        {
          "output_type": "execute_result",
          "data": {
            "text/plain": [
              "   Serial No.  GRE Score  TOEFL Score  University Rating  SOP  LOR   CGPA  \\\n",
              "0           1        337          118                  4  4.5   4.5  9.65   \n",
              "1           2        324          107                  4  4.0   4.5  8.87   \n",
              "2           3        316          104                  3  3.0   3.5  8.00   \n",
              "3           4        322          110                  3  3.5   2.5  8.67   \n",
              "4           5        314          103                  2  2.0   3.0  8.21   \n",
              "\n",
              "   Research  Admission  \n",
              "0         1       0.92  \n",
              "1         1       0.76  \n",
              "2         1       0.72  \n",
              "3         1       0.80  \n",
              "4         0       0.65  "
            ],
            "text/html": [
              "\n",
              "  <div id=\"df-e3ddafa1-3db4-445f-9c91-cb65ca5d6770\">\n",
              "    <div class=\"colab-df-container\">\n",
              "      <div>\n",
              "<style scoped>\n",
              "    .dataframe tbody tr th:only-of-type {\n",
              "        vertical-align: middle;\n",
              "    }\n",
              "\n",
              "    .dataframe tbody tr th {\n",
              "        vertical-align: top;\n",
              "    }\n",
              "\n",
              "    .dataframe thead th {\n",
              "        text-align: right;\n",
              "    }\n",
              "</style>\n",
              "<table border=\"1\" class=\"dataframe\">\n",
              "  <thead>\n",
              "    <tr style=\"text-align: right;\">\n",
              "      <th></th>\n",
              "      <th>Serial No.</th>\n",
              "      <th>GRE Score</th>\n",
              "      <th>TOEFL Score</th>\n",
              "      <th>University Rating</th>\n",
              "      <th>SOP</th>\n",
              "      <th>LOR</th>\n",
              "      <th>CGPA</th>\n",
              "      <th>Research</th>\n",
              "      <th>Admission</th>\n",
              "    </tr>\n",
              "  </thead>\n",
              "  <tbody>\n",
              "    <tr>\n",
              "      <th>0</th>\n",
              "      <td>1</td>\n",
              "      <td>337</td>\n",
              "      <td>118</td>\n",
              "      <td>4</td>\n",
              "      <td>4.5</td>\n",
              "      <td>4.5</td>\n",
              "      <td>9.65</td>\n",
              "      <td>1</td>\n",
              "      <td>0.92</td>\n",
              "    </tr>\n",
              "    <tr>\n",
              "      <th>1</th>\n",
              "      <td>2</td>\n",
              "      <td>324</td>\n",
              "      <td>107</td>\n",
              "      <td>4</td>\n",
              "      <td>4.0</td>\n",
              "      <td>4.5</td>\n",
              "      <td>8.87</td>\n",
              "      <td>1</td>\n",
              "      <td>0.76</td>\n",
              "    </tr>\n",
              "    <tr>\n",
              "      <th>2</th>\n",
              "      <td>3</td>\n",
              "      <td>316</td>\n",
              "      <td>104</td>\n",
              "      <td>3</td>\n",
              "      <td>3.0</td>\n",
              "      <td>3.5</td>\n",
              "      <td>8.00</td>\n",
              "      <td>1</td>\n",
              "      <td>0.72</td>\n",
              "    </tr>\n",
              "    <tr>\n",
              "      <th>3</th>\n",
              "      <td>4</td>\n",
              "      <td>322</td>\n",
              "      <td>110</td>\n",
              "      <td>3</td>\n",
              "      <td>3.5</td>\n",
              "      <td>2.5</td>\n",
              "      <td>8.67</td>\n",
              "      <td>1</td>\n",
              "      <td>0.80</td>\n",
              "    </tr>\n",
              "    <tr>\n",
              "      <th>4</th>\n",
              "      <td>5</td>\n",
              "      <td>314</td>\n",
              "      <td>103</td>\n",
              "      <td>2</td>\n",
              "      <td>2.0</td>\n",
              "      <td>3.0</td>\n",
              "      <td>8.21</td>\n",
              "      <td>0</td>\n",
              "      <td>0.65</td>\n",
              "    </tr>\n",
              "  </tbody>\n",
              "</table>\n",
              "</div>\n",
              "      <button class=\"colab-df-convert\" onclick=\"convertToInteractive('df-e3ddafa1-3db4-445f-9c91-cb65ca5d6770')\"\n",
              "              title=\"Convert this dataframe to an interactive table.\"\n",
              "              style=\"display:none;\">\n",
              "        \n",
              "  <svg xmlns=\"http://www.w3.org/2000/svg\" height=\"24px\"viewBox=\"0 0 24 24\"\n",
              "       width=\"24px\">\n",
              "    <path d=\"M0 0h24v24H0V0z\" fill=\"none\"/>\n",
              "    <path d=\"M18.56 5.44l.94 2.06.94-2.06 2.06-.94-2.06-.94-.94-2.06-.94 2.06-2.06.94zm-11 1L8.5 8.5l.94-2.06 2.06-.94-2.06-.94L8.5 2.5l-.94 2.06-2.06.94zm10 10l.94 2.06.94-2.06 2.06-.94-2.06-.94-.94-2.06-.94 2.06-2.06.94z\"/><path d=\"M17.41 7.96l-1.37-1.37c-.4-.4-.92-.59-1.43-.59-.52 0-1.04.2-1.43.59L10.3 9.45l-7.72 7.72c-.78.78-.78 2.05 0 2.83L4 21.41c.39.39.9.59 1.41.59.51 0 1.02-.2 1.41-.59l7.78-7.78 2.81-2.81c.8-.78.8-2.07 0-2.86zM5.41 20L4 18.59l7.72-7.72 1.47 1.35L5.41 20z\"/>\n",
              "  </svg>\n",
              "      </button>\n",
              "      \n",
              "  <style>\n",
              "    .colab-df-container {\n",
              "      display:flex;\n",
              "      flex-wrap:wrap;\n",
              "      gap: 12px;\n",
              "    }\n",
              "\n",
              "    .colab-df-convert {\n",
              "      background-color: #E8F0FE;\n",
              "      border: none;\n",
              "      border-radius: 50%;\n",
              "      cursor: pointer;\n",
              "      display: none;\n",
              "      fill: #1967D2;\n",
              "      height: 32px;\n",
              "      padding: 0 0 0 0;\n",
              "      width: 32px;\n",
              "    }\n",
              "\n",
              "    .colab-df-convert:hover {\n",
              "      background-color: #E2EBFA;\n",
              "      box-shadow: 0px 1px 2px rgba(60, 64, 67, 0.3), 0px 1px 3px 1px rgba(60, 64, 67, 0.15);\n",
              "      fill: #174EA6;\n",
              "    }\n",
              "\n",
              "    [theme=dark] .colab-df-convert {\n",
              "      background-color: #3B4455;\n",
              "      fill: #D2E3FC;\n",
              "    }\n",
              "\n",
              "    [theme=dark] .colab-df-convert:hover {\n",
              "      background-color: #434B5C;\n",
              "      box-shadow: 0px 1px 3px 1px rgba(0, 0, 0, 0.15);\n",
              "      filter: drop-shadow(0px 1px 2px rgba(0, 0, 0, 0.3));\n",
              "      fill: #FFFFFF;\n",
              "    }\n",
              "  </style>\n",
              "\n",
              "      <script>\n",
              "        const buttonEl =\n",
              "          document.querySelector('#df-e3ddafa1-3db4-445f-9c91-cb65ca5d6770 button.colab-df-convert');\n",
              "        buttonEl.style.display =\n",
              "          google.colab.kernel.accessAllowed ? 'block' : 'none';\n",
              "\n",
              "        async function convertToInteractive(key) {\n",
              "          const element = document.querySelector('#df-e3ddafa1-3db4-445f-9c91-cb65ca5d6770');\n",
              "          const dataTable =\n",
              "            await google.colab.kernel.invokeFunction('convertToInteractive',\n",
              "                                                     [key], {});\n",
              "          if (!dataTable) return;\n",
              "\n",
              "          const docLinkHtml = 'Like what you see? Visit the ' +\n",
              "            '<a target=\"_blank\" href=https://colab.research.google.com/notebooks/data_table.ipynb>data table notebook</a>'\n",
              "            + ' to learn more about interactive tables.';\n",
              "          element.innerHTML = '';\n",
              "          dataTable['output_type'] = 'display_data';\n",
              "          await google.colab.output.renderOutput(dataTable, element);\n",
              "          const docLink = document.createElement('div');\n",
              "          docLink.innerHTML = docLinkHtml;\n",
              "          element.appendChild(docLink);\n",
              "        }\n",
              "      </script>\n",
              "    </div>\n",
              "  </div>\n",
              "  "
            ]
          },
          "metadata": {},
          "execution_count": 2
        }
      ]
    },
    {
      "cell_type": "code",
      "source": [
        "del data['Serial No.']\n",
        "data.head()"
      ],
      "metadata": {
        "colab": {
          "base_uri": "https://localhost:8080/",
          "height": 206
        },
        "id": "84NMIjA6VqtO",
        "outputId": "9d72229f-27d1-431b-f278-b056ede38b4c"
      },
      "execution_count": 3,
      "outputs": [
        {
          "output_type": "execute_result",
          "data": {
            "text/plain": [
              "   GRE Score  TOEFL Score  University Rating  SOP  LOR   CGPA  Research  \\\n",
              "0        337          118                  4  4.5   4.5  9.65         1   \n",
              "1        324          107                  4  4.0   4.5  8.87         1   \n",
              "2        316          104                  3  3.0   3.5  8.00         1   \n",
              "3        322          110                  3  3.5   2.5  8.67         1   \n",
              "4        314          103                  2  2.0   3.0  8.21         0   \n",
              "\n",
              "   Admission  \n",
              "0       0.92  \n",
              "1       0.76  \n",
              "2       0.72  \n",
              "3       0.80  \n",
              "4       0.65  "
            ],
            "text/html": [
              "\n",
              "  <div id=\"df-8ca350d6-b482-4d0b-baa9-5aaf01fbced6\">\n",
              "    <div class=\"colab-df-container\">\n",
              "      <div>\n",
              "<style scoped>\n",
              "    .dataframe tbody tr th:only-of-type {\n",
              "        vertical-align: middle;\n",
              "    }\n",
              "\n",
              "    .dataframe tbody tr th {\n",
              "        vertical-align: top;\n",
              "    }\n",
              "\n",
              "    .dataframe thead th {\n",
              "        text-align: right;\n",
              "    }\n",
              "</style>\n",
              "<table border=\"1\" class=\"dataframe\">\n",
              "  <thead>\n",
              "    <tr style=\"text-align: right;\">\n",
              "      <th></th>\n",
              "      <th>GRE Score</th>\n",
              "      <th>TOEFL Score</th>\n",
              "      <th>University Rating</th>\n",
              "      <th>SOP</th>\n",
              "      <th>LOR</th>\n",
              "      <th>CGPA</th>\n",
              "      <th>Research</th>\n",
              "      <th>Admission</th>\n",
              "    </tr>\n",
              "  </thead>\n",
              "  <tbody>\n",
              "    <tr>\n",
              "      <th>0</th>\n",
              "      <td>337</td>\n",
              "      <td>118</td>\n",
              "      <td>4</td>\n",
              "      <td>4.5</td>\n",
              "      <td>4.5</td>\n",
              "      <td>9.65</td>\n",
              "      <td>1</td>\n",
              "      <td>0.92</td>\n",
              "    </tr>\n",
              "    <tr>\n",
              "      <th>1</th>\n",
              "      <td>324</td>\n",
              "      <td>107</td>\n",
              "      <td>4</td>\n",
              "      <td>4.0</td>\n",
              "      <td>4.5</td>\n",
              "      <td>8.87</td>\n",
              "      <td>1</td>\n",
              "      <td>0.76</td>\n",
              "    </tr>\n",
              "    <tr>\n",
              "      <th>2</th>\n",
              "      <td>316</td>\n",
              "      <td>104</td>\n",
              "      <td>3</td>\n",
              "      <td>3.0</td>\n",
              "      <td>3.5</td>\n",
              "      <td>8.00</td>\n",
              "      <td>1</td>\n",
              "      <td>0.72</td>\n",
              "    </tr>\n",
              "    <tr>\n",
              "      <th>3</th>\n",
              "      <td>322</td>\n",
              "      <td>110</td>\n",
              "      <td>3</td>\n",
              "      <td>3.5</td>\n",
              "      <td>2.5</td>\n",
              "      <td>8.67</td>\n",
              "      <td>1</td>\n",
              "      <td>0.80</td>\n",
              "    </tr>\n",
              "    <tr>\n",
              "      <th>4</th>\n",
              "      <td>314</td>\n",
              "      <td>103</td>\n",
              "      <td>2</td>\n",
              "      <td>2.0</td>\n",
              "      <td>3.0</td>\n",
              "      <td>8.21</td>\n",
              "      <td>0</td>\n",
              "      <td>0.65</td>\n",
              "    </tr>\n",
              "  </tbody>\n",
              "</table>\n",
              "</div>\n",
              "      <button class=\"colab-df-convert\" onclick=\"convertToInteractive('df-8ca350d6-b482-4d0b-baa9-5aaf01fbced6')\"\n",
              "              title=\"Convert this dataframe to an interactive table.\"\n",
              "              style=\"display:none;\">\n",
              "        \n",
              "  <svg xmlns=\"http://www.w3.org/2000/svg\" height=\"24px\"viewBox=\"0 0 24 24\"\n",
              "       width=\"24px\">\n",
              "    <path d=\"M0 0h24v24H0V0z\" fill=\"none\"/>\n",
              "    <path d=\"M18.56 5.44l.94 2.06.94-2.06 2.06-.94-2.06-.94-.94-2.06-.94 2.06-2.06.94zm-11 1L8.5 8.5l.94-2.06 2.06-.94-2.06-.94L8.5 2.5l-.94 2.06-2.06.94zm10 10l.94 2.06.94-2.06 2.06-.94-2.06-.94-.94-2.06-.94 2.06-2.06.94z\"/><path d=\"M17.41 7.96l-1.37-1.37c-.4-.4-.92-.59-1.43-.59-.52 0-1.04.2-1.43.59L10.3 9.45l-7.72 7.72c-.78.78-.78 2.05 0 2.83L4 21.41c.39.39.9.59 1.41.59.51 0 1.02-.2 1.41-.59l7.78-7.78 2.81-2.81c.8-.78.8-2.07 0-2.86zM5.41 20L4 18.59l7.72-7.72 1.47 1.35L5.41 20z\"/>\n",
              "  </svg>\n",
              "      </button>\n",
              "      \n",
              "  <style>\n",
              "    .colab-df-container {\n",
              "      display:flex;\n",
              "      flex-wrap:wrap;\n",
              "      gap: 12px;\n",
              "    }\n",
              "\n",
              "    .colab-df-convert {\n",
              "      background-color: #E8F0FE;\n",
              "      border: none;\n",
              "      border-radius: 50%;\n",
              "      cursor: pointer;\n",
              "      display: none;\n",
              "      fill: #1967D2;\n",
              "      height: 32px;\n",
              "      padding: 0 0 0 0;\n",
              "      width: 32px;\n",
              "    }\n",
              "\n",
              "    .colab-df-convert:hover {\n",
              "      background-color: #E2EBFA;\n",
              "      box-shadow: 0px 1px 2px rgba(60, 64, 67, 0.3), 0px 1px 3px 1px rgba(60, 64, 67, 0.15);\n",
              "      fill: #174EA6;\n",
              "    }\n",
              "\n",
              "    [theme=dark] .colab-df-convert {\n",
              "      background-color: #3B4455;\n",
              "      fill: #D2E3FC;\n",
              "    }\n",
              "\n",
              "    [theme=dark] .colab-df-convert:hover {\n",
              "      background-color: #434B5C;\n",
              "      box-shadow: 0px 1px 3px 1px rgba(0, 0, 0, 0.15);\n",
              "      filter: drop-shadow(0px 1px 2px rgba(0, 0, 0, 0.3));\n",
              "      fill: #FFFFFF;\n",
              "    }\n",
              "  </style>\n",
              "\n",
              "      <script>\n",
              "        const buttonEl =\n",
              "          document.querySelector('#df-8ca350d6-b482-4d0b-baa9-5aaf01fbced6 button.colab-df-convert');\n",
              "        buttonEl.style.display =\n",
              "          google.colab.kernel.accessAllowed ? 'block' : 'none';\n",
              "\n",
              "        async function convertToInteractive(key) {\n",
              "          const element = document.querySelector('#df-8ca350d6-b482-4d0b-baa9-5aaf01fbced6');\n",
              "          const dataTable =\n",
              "            await google.colab.kernel.invokeFunction('convertToInteractive',\n",
              "                                                     [key], {});\n",
              "          if (!dataTable) return;\n",
              "\n",
              "          const docLinkHtml = 'Like what you see? Visit the ' +\n",
              "            '<a target=\"_blank\" href=https://colab.research.google.com/notebooks/data_table.ipynb>data table notebook</a>'\n",
              "            + ' to learn more about interactive tables.';\n",
              "          element.innerHTML = '';\n",
              "          dataTable['output_type'] = 'display_data';\n",
              "          await google.colab.output.renderOutput(dataTable, element);\n",
              "          const docLink = document.createElement('div');\n",
              "          docLink.innerHTML = docLinkHtml;\n",
              "          element.appendChild(docLink);\n",
              "        }\n",
              "      </script>\n",
              "    </div>\n",
              "  </div>\n",
              "  "
            ]
          },
          "metadata": {},
          "execution_count": 3
        }
      ]
    },
    {
      "cell_type": "code",
      "source": [
        "X = data.iloc[:,data.columns!='Admission']\n",
        "y = data['Admission']"
      ],
      "metadata": {
        "id": "xZ0i1aA8WVb5"
      },
      "execution_count": 4,
      "outputs": []
    },
    {
      "cell_type": "code",
      "source": [
        "from sklearn.model_selection import train_test_split\n",
        "\n",
        "x_train,x_test,y_train,y_test = train_test_split(X,y,random_state=0)"
      ],
      "metadata": {
        "id": "1bzhHMZWWM-0"
      },
      "execution_count": 5,
      "outputs": []
    },
    {
      "cell_type": "code",
      "source": [
        "from sklearn.preprocessing import MinMaxScaler\n",
        "scaler = MinMaxScaler()\n",
        "\n",
        "x_train_scaled = scaler.fit_transform(x_train)\n",
        "x_test_scaled = scaler.transform(x_test)"
      ],
      "metadata": {
        "id": "zySfH-a2e79S"
      },
      "execution_count": 6,
      "outputs": []
    },
    {
      "cell_type": "code",
      "source": [
        "import keras\n",
        "from keras.models import Sequential\n",
        "from keras.layers import Dense"
      ],
      "metadata": {
        "id": "XTc65cXZVuPu"
      },
      "execution_count": 7,
      "outputs": []
    },
    {
      "cell_type": "code",
      "source": [
        "reg = Sequential() "
      ],
      "metadata": {
        "id": "uzWGmFwMWI_z"
      },
      "execution_count": 8,
      "outputs": []
    },
    {
      "cell_type": "code",
      "source": [
        "reg.add(Dense(units=5,activation='relu',kernel_initializer='he_uniform' ,input_dim=7))\n",
        "\n",
        "reg.add(Dense(units=5,activation='relu'))\n",
        "\n",
        "reg.add(Dense(units=1,activation='sigmoid'))"
      ],
      "metadata": {
        "id": "7AQpZ8lOWLyP"
      },
      "execution_count": 9,
      "outputs": []
    },
    {
      "cell_type": "code",
      "source": [
        "reg.compile(optimizer='Adam',loss='mean_squared_error')"
      ],
      "metadata": {
        "id": "AeMpK_AlXYty"
      },
      "execution_count": 10,
      "outputs": []
    },
    {
      "cell_type": "code",
      "source": [
        "reg.fit(x_train_scaled,y_train,epochs=100,validation_split=0.2)"
      ],
      "metadata": {
        "colab": {
          "base_uri": "https://localhost:8080/"
        },
        "id": "O2-C5SpLYITg",
        "outputId": "d7b6679b-65d6-4bf7-f809-4d767a4ec660"
      },
      "execution_count": 11,
      "outputs": [
        {
          "output_type": "stream",
          "name": "stdout",
          "text": [
            "Epoch 1/100\n",
            "10/10 [==============================] - 1s 21ms/step - loss: 0.0102 - val_loss: 0.0102\n",
            "Epoch 2/100\n",
            "10/10 [==============================] - 0s 6ms/step - loss: 0.0094 - val_loss: 0.0096\n",
            "Epoch 3/100\n",
            "10/10 [==============================] - 0s 4ms/step - loss: 0.0093 - val_loss: 0.0094\n",
            "Epoch 4/100\n",
            "10/10 [==============================] - 0s 4ms/step - loss: 0.0091 - val_loss: 0.0094\n",
            "Epoch 5/100\n",
            "10/10 [==============================] - 0s 4ms/step - loss: 0.0089 - val_loss: 0.0093\n",
            "Epoch 6/100\n",
            "10/10 [==============================] - 0s 4ms/step - loss: 0.0088 - val_loss: 0.0091\n",
            "Epoch 7/100\n",
            "10/10 [==============================] - 0s 4ms/step - loss: 0.0086 - val_loss: 0.0091\n",
            "Epoch 8/100\n",
            "10/10 [==============================] - 0s 6ms/step - loss: 0.0085 - val_loss: 0.0088\n",
            "Epoch 9/100\n",
            "10/10 [==============================] - 0s 4ms/step - loss: 0.0083 - val_loss: 0.0087\n",
            "Epoch 10/100\n",
            "10/10 [==============================] - 0s 4ms/step - loss: 0.0082 - val_loss: 0.0086\n",
            "Epoch 11/100\n",
            "10/10 [==============================] - 0s 5ms/step - loss: 0.0080 - val_loss: 0.0084\n",
            "Epoch 12/100\n",
            "10/10 [==============================] - 0s 4ms/step - loss: 0.0079 - val_loss: 0.0083\n",
            "Epoch 13/100\n",
            "10/10 [==============================] - 0s 4ms/step - loss: 0.0078 - val_loss: 0.0082\n",
            "Epoch 14/100\n",
            "10/10 [==============================] - 0s 4ms/step - loss: 0.0077 - val_loss: 0.0082\n",
            "Epoch 15/100\n",
            "10/10 [==============================] - 0s 4ms/step - loss: 0.0076 - val_loss: 0.0080\n",
            "Epoch 16/100\n",
            "10/10 [==============================] - 0s 9ms/step - loss: 0.0075 - val_loss: 0.0079\n",
            "Epoch 17/100\n",
            "10/10 [==============================] - 0s 11ms/step - loss: 0.0074 - val_loss: 0.0078\n",
            "Epoch 18/100\n",
            "10/10 [==============================] - 0s 7ms/step - loss: 0.0072 - val_loss: 0.0077\n",
            "Epoch 19/100\n",
            "10/10 [==============================] - 0s 6ms/step - loss: 0.0071 - val_loss: 0.0076\n",
            "Epoch 20/100\n",
            "10/10 [==============================] - 0s 8ms/step - loss: 0.0070 - val_loss: 0.0076\n",
            "Epoch 21/100\n",
            "10/10 [==============================] - 0s 7ms/step - loss: 0.0069 - val_loss: 0.0074\n",
            "Epoch 22/100\n",
            "10/10 [==============================] - 0s 7ms/step - loss: 0.0069 - val_loss: 0.0074\n",
            "Epoch 23/100\n",
            "10/10 [==============================] - 0s 7ms/step - loss: 0.0068 - val_loss: 0.0073\n",
            "Epoch 24/100\n",
            "10/10 [==============================] - 0s 5ms/step - loss: 0.0067 - val_loss: 0.0072\n",
            "Epoch 25/100\n",
            "10/10 [==============================] - 0s 7ms/step - loss: 0.0066 - val_loss: 0.0073\n",
            "Epoch 26/100\n",
            "10/10 [==============================] - 0s 8ms/step - loss: 0.0065 - val_loss: 0.0071\n",
            "Epoch 27/100\n",
            "10/10 [==============================] - 0s 5ms/step - loss: 0.0064 - val_loss: 0.0070\n",
            "Epoch 28/100\n",
            "10/10 [==============================] - 0s 8ms/step - loss: 0.0064 - val_loss: 0.0069\n",
            "Epoch 29/100\n",
            "10/10 [==============================] - 0s 7ms/step - loss: 0.0063 - val_loss: 0.0069\n",
            "Epoch 30/100\n",
            "10/10 [==============================] - 0s 9ms/step - loss: 0.0062 - val_loss: 0.0068\n",
            "Epoch 31/100\n",
            "10/10 [==============================] - 0s 7ms/step - loss: 0.0061 - val_loss: 0.0067\n",
            "Epoch 32/100\n",
            "10/10 [==============================] - 0s 5ms/step - loss: 0.0061 - val_loss: 0.0067\n",
            "Epoch 33/100\n",
            "10/10 [==============================] - 0s 11ms/step - loss: 0.0060 - val_loss: 0.0067\n",
            "Epoch 34/100\n",
            "10/10 [==============================] - 0s 7ms/step - loss: 0.0060 - val_loss: 0.0066\n",
            "Epoch 35/100\n",
            "10/10 [==============================] - 0s 6ms/step - loss: 0.0059 - val_loss: 0.0065\n",
            "Epoch 36/100\n",
            "10/10 [==============================] - 0s 10ms/step - loss: 0.0059 - val_loss: 0.0066\n",
            "Epoch 37/100\n",
            "10/10 [==============================] - 0s 8ms/step - loss: 0.0058 - val_loss: 0.0064\n",
            "Epoch 38/100\n",
            "10/10 [==============================] - 0s 11ms/step - loss: 0.0057 - val_loss: 0.0063\n",
            "Epoch 39/100\n",
            "10/10 [==============================] - 0s 15ms/step - loss: 0.0057 - val_loss: 0.0063\n",
            "Epoch 40/100\n",
            "10/10 [==============================] - 0s 7ms/step - loss: 0.0056 - val_loss: 0.0063\n",
            "Epoch 41/100\n",
            "10/10 [==============================] - 0s 8ms/step - loss: 0.0056 - val_loss: 0.0062\n",
            "Epoch 42/100\n",
            "10/10 [==============================] - 0s 8ms/step - loss: 0.0055 - val_loss: 0.0062\n",
            "Epoch 43/100\n",
            "10/10 [==============================] - 0s 7ms/step - loss: 0.0055 - val_loss: 0.0062\n",
            "Epoch 44/100\n",
            "10/10 [==============================] - 0s 10ms/step - loss: 0.0055 - val_loss: 0.0061\n",
            "Epoch 45/100\n",
            "10/10 [==============================] - 0s 9ms/step - loss: 0.0054 - val_loss: 0.0060\n",
            "Epoch 46/100\n",
            "10/10 [==============================] - 0s 7ms/step - loss: 0.0054 - val_loss: 0.0060\n",
            "Epoch 47/100\n",
            "10/10 [==============================] - 0s 5ms/step - loss: 0.0053 - val_loss: 0.0060\n",
            "Epoch 48/100\n",
            "10/10 [==============================] - 0s 9ms/step - loss: 0.0053 - val_loss: 0.0059\n",
            "Epoch 49/100\n",
            "10/10 [==============================] - 0s 7ms/step - loss: 0.0052 - val_loss: 0.0059\n",
            "Epoch 50/100\n",
            "10/10 [==============================] - 0s 16ms/step - loss: 0.0052 - val_loss: 0.0058\n",
            "Epoch 51/100\n",
            "10/10 [==============================] - 0s 8ms/step - loss: 0.0052 - val_loss: 0.0058\n",
            "Epoch 52/100\n",
            "10/10 [==============================] - 0s 11ms/step - loss: 0.0051 - val_loss: 0.0057\n",
            "Epoch 53/100\n",
            "10/10 [==============================] - 0s 7ms/step - loss: 0.0051 - val_loss: 0.0057\n",
            "Epoch 54/100\n",
            "10/10 [==============================] - 0s 11ms/step - loss: 0.0051 - val_loss: 0.0057\n",
            "Epoch 55/100\n",
            "10/10 [==============================] - 0s 8ms/step - loss: 0.0051 - val_loss: 0.0057\n",
            "Epoch 56/100\n",
            "10/10 [==============================] - 0s 8ms/step - loss: 0.0050 - val_loss: 0.0056\n",
            "Epoch 57/100\n",
            "10/10 [==============================] - 0s 7ms/step - loss: 0.0050 - val_loss: 0.0056\n",
            "Epoch 58/100\n",
            "10/10 [==============================] - 0s 7ms/step - loss: 0.0050 - val_loss: 0.0055\n",
            "Epoch 59/100\n",
            "10/10 [==============================] - 0s 9ms/step - loss: 0.0050 - val_loss: 0.0056\n",
            "Epoch 60/100\n",
            "10/10 [==============================] - 0s 8ms/step - loss: 0.0049 - val_loss: 0.0055\n",
            "Epoch 61/100\n",
            "10/10 [==============================] - 0s 13ms/step - loss: 0.0049 - val_loss: 0.0055\n",
            "Epoch 62/100\n",
            "10/10 [==============================] - 0s 9ms/step - loss: 0.0049 - val_loss: 0.0054\n",
            "Epoch 63/100\n",
            "10/10 [==============================] - 0s 8ms/step - loss: 0.0049 - val_loss: 0.0054\n",
            "Epoch 64/100\n",
            "10/10 [==============================] - 0s 6ms/step - loss: 0.0048 - val_loss: 0.0054\n",
            "Epoch 65/100\n",
            "10/10 [==============================] - 0s 7ms/step - loss: 0.0048 - val_loss: 0.0054\n",
            "Epoch 66/100\n",
            "10/10 [==============================] - 0s 7ms/step - loss: 0.0048 - val_loss: 0.0054\n",
            "Epoch 67/100\n",
            "10/10 [==============================] - 0s 11ms/step - loss: 0.0047 - val_loss: 0.0053\n",
            "Epoch 68/100\n",
            "10/10 [==============================] - 0s 7ms/step - loss: 0.0047 - val_loss: 0.0053\n",
            "Epoch 69/100\n",
            "10/10 [==============================] - 0s 8ms/step - loss: 0.0047 - val_loss: 0.0053\n",
            "Epoch 70/100\n",
            "10/10 [==============================] - 0s 9ms/step - loss: 0.0047 - val_loss: 0.0053\n",
            "Epoch 71/100\n",
            "10/10 [==============================] - 0s 7ms/step - loss: 0.0047 - val_loss: 0.0052\n",
            "Epoch 72/100\n",
            "10/10 [==============================] - 0s 9ms/step - loss: 0.0046 - val_loss: 0.0052\n",
            "Epoch 73/100\n",
            "10/10 [==============================] - 0s 16ms/step - loss: 0.0046 - val_loss: 0.0051\n",
            "Epoch 74/100\n",
            "10/10 [==============================] - 0s 13ms/step - loss: 0.0046 - val_loss: 0.0051\n",
            "Epoch 75/100\n",
            "10/10 [==============================] - 0s 7ms/step - loss: 0.0046 - val_loss: 0.0051\n",
            "Epoch 76/100\n",
            "10/10 [==============================] - 0s 8ms/step - loss: 0.0046 - val_loss: 0.0051\n",
            "Epoch 77/100\n",
            "10/10 [==============================] - 0s 10ms/step - loss: 0.0045 - val_loss: 0.0051\n",
            "Epoch 78/100\n",
            "10/10 [==============================] - 0s 7ms/step - loss: 0.0045 - val_loss: 0.0050\n",
            "Epoch 79/100\n",
            "10/10 [==============================] - 0s 9ms/step - loss: 0.0045 - val_loss: 0.0050\n",
            "Epoch 80/100\n",
            "10/10 [==============================] - 0s 10ms/step - loss: 0.0045 - val_loss: 0.0050\n",
            "Epoch 81/100\n",
            "10/10 [==============================] - 0s 8ms/step - loss: 0.0045 - val_loss: 0.0050\n",
            "Epoch 82/100\n",
            "10/10 [==============================] - 0s 11ms/step - loss: 0.0045 - val_loss: 0.0050\n",
            "Epoch 83/100\n",
            "10/10 [==============================] - 0s 9ms/step - loss: 0.0044 - val_loss: 0.0049\n",
            "Epoch 84/100\n",
            "10/10 [==============================] - 0s 7ms/step - loss: 0.0044 - val_loss: 0.0049\n",
            "Epoch 85/100\n",
            "10/10 [==============================] - 0s 11ms/step - loss: 0.0044 - val_loss: 0.0049\n",
            "Epoch 86/100\n",
            "10/10 [==============================] - 0s 10ms/step - loss: 0.0044 - val_loss: 0.0049\n",
            "Epoch 87/100\n",
            "10/10 [==============================] - 0s 8ms/step - loss: 0.0044 - val_loss: 0.0049\n",
            "Epoch 88/100\n",
            "10/10 [==============================] - 0s 7ms/step - loss: 0.0044 - val_loss: 0.0048\n",
            "Epoch 89/100\n",
            "10/10 [==============================] - 0s 12ms/step - loss: 0.0044 - val_loss: 0.0048\n",
            "Epoch 90/100\n",
            "10/10 [==============================] - 0s 14ms/step - loss: 0.0043 - val_loss: 0.0048\n",
            "Epoch 91/100\n",
            "10/10 [==============================] - 0s 11ms/step - loss: 0.0043 - val_loss: 0.0048\n",
            "Epoch 92/100\n",
            "10/10 [==============================] - 0s 6ms/step - loss: 0.0043 - val_loss: 0.0048\n",
            "Epoch 93/100\n",
            "10/10 [==============================] - 0s 7ms/step - loss: 0.0043 - val_loss: 0.0048\n",
            "Epoch 94/100\n",
            "10/10 [==============================] - 0s 10ms/step - loss: 0.0043 - val_loss: 0.0048\n",
            "Epoch 95/100\n",
            "10/10 [==============================] - 0s 9ms/step - loss: 0.0043 - val_loss: 0.0047\n",
            "Epoch 96/100\n",
            "10/10 [==============================] - 0s 12ms/step - loss: 0.0043 - val_loss: 0.0047\n",
            "Epoch 97/100\n",
            "10/10 [==============================] - 0s 7ms/step - loss: 0.0043 - val_loss: 0.0047\n",
            "Epoch 98/100\n",
            "10/10 [==============================] - 0s 8ms/step - loss: 0.0043 - val_loss: 0.0047\n",
            "Epoch 99/100\n",
            "10/10 [==============================] - 0s 7ms/step - loss: 0.0043 - val_loss: 0.0047\n",
            "Epoch 100/100\n",
            "10/10 [==============================] - 0s 13ms/step - loss: 0.0043 - val_loss: 0.0047\n"
          ]
        },
        {
          "output_type": "execute_result",
          "data": {
            "text/plain": [
              "<keras.callbacks.History at 0x7f2e7f29e290>"
            ]
          },
          "metadata": {},
          "execution_count": 11
        }
      ]
    },
    {
      "cell_type": "code",
      "source": [
        "y_pred = reg.predict(x_test_scaled).reshape(125,)"
      ],
      "metadata": {
        "id": "BnwoNVPiYPmB"
      },
      "execution_count": 12,
      "outputs": []
    },
    {
      "cell_type": "code",
      "source": [
        "from sklearn.metrics import r2_score"
      ],
      "metadata": {
        "id": "-YAGnRZlZBmW"
      },
      "execution_count": 13,
      "outputs": []
    },
    {
      "cell_type": "code",
      "source": [
        "r2_score(y_test,y_pred)"
      ],
      "metadata": {
        "colab": {
          "base_uri": "https://localhost:8080/"
        },
        "id": "BB-z10KnZP3x",
        "outputId": "8e586b05-86be-4016-ca02-1f79bd6119c9"
      },
      "execution_count": 14,
      "outputs": [
        {
          "output_type": "execute_result",
          "data": {
            "text/plain": [
              "0.7427646431340038"
            ]
          },
          "metadata": {},
          "execution_count": 14
        }
      ]
    },
    {
      "cell_type": "code",
      "source": [
        "def safetyPredictor(p):\n",
        "  pred = reg.predict(scaler.transform(p))\n",
        "  if(pred>0.75):\n",
        "    return 'Safe'\n",
        "  elif(pred>0.4 and pred<0.75):\n",
        "    return 'Ambitious'\n",
        "  else:\n",
        "    return 'Impossible To Get In'"
      ],
      "metadata": {
        "id": "aBRYUOXRjatx"
      },
      "execution_count": 15,
      "outputs": []
    },
    {
      "cell_type": "code",
      "source": [
        "gre = input('GRE Score (out of 340): ')\n",
        "toefl = input('TOEFL Score (out of 120): ')\n",
        "urate = input('University Rating (out of 5): ')\n",
        "sop = input('Statement of Purpose (out of 5): ')\n",
        "lor = input('Letter of Recomendation (out of 5): ')\n",
        "gpa = input('Undergraduate GPA (out of 10): ')\n",
        "rex = input('Research Experiance (either 0 or 1): ')\n",
        "\n",
        "p = [[gre,toefl,urate,sop,lor,gpa,rex]]\n",
        "result = safetyPredictor(p)"
      ],
      "metadata": {
        "colab": {
          "base_uri": "https://localhost:8080/"
        },
        "id": "G52_B8gyjiCz",
        "outputId": "e16ec908-018a-4f12-ce99-08db44c32844"
      },
      "execution_count": 16,
      "outputs": [
        {
          "name": "stdout",
          "output_type": "stream",
          "text": [
            "GRE Score (out of 340): 330\n",
            "TOEFL Score (out of 120): 120\n",
            "University Rating (out of 5): 3\n",
            "Statement of Purpose (out of 5): 4\n",
            "Letter of Recomendation (out of 5): 5\n",
            "Undergraduate GPA (out of 10): 9.8\n",
            "Research Experiance (either 0 or 1): 1\n"
          ]
        }
      ]
    },
    {
      "cell_type": "code",
      "source": [
        "result"
      ],
      "metadata": {
        "colab": {
          "base_uri": "https://localhost:8080/",
          "height": 35
        },
        "id": "knPj6cABlYON",
        "outputId": "7c31b5c2-cdb3-4eb5-daf5-fba0af36fc7d"
      },
      "execution_count": 17,
      "outputs": [
        {
          "output_type": "execute_result",
          "data": {
            "text/plain": [
              "'Safe'"
            ],
            "application/vnd.google.colaboratory.intrinsic+json": {
              "type": "string"
            }
          },
          "metadata": {},
          "execution_count": 17
        }
      ]
    }
  ]
}