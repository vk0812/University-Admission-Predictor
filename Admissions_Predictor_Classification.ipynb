{
  "nbformat": 4,
  "nbformat_minor": 0,
  "metadata": {
    "colab": {
      "name": "Admissions Predictor Classification.ipynb",
      "provenance": [],
      "collapsed_sections": []
    },
    "kernelspec": {
      "name": "python3",
      "display_name": "Python 3"
    },
    "language_info": {
      "name": "python"
    }
  },
  "cells": [
    {
      "cell_type": "code",
      "execution_count": 1,
      "metadata": {
        "id": "Pzk1DOh7-JrU"
      },
      "outputs": [],
      "source": [
        "import pandas as pd\n",
        "import numpy as np\n",
        "import matplotlib.pyplot as plt\n",
        "import seaborn as sns"
      ]
    },
    {
      "cell_type": "code",
      "source": [
        "data = pd.read_csv('./Admission Predict.csv')\n",
        "data.head()"
      ],
      "metadata": {
        "colab": {
          "base_uri": "https://localhost:8080/",
          "height": 206
        },
        "id": "gjiZWrFz-ljO",
        "outputId": "c738ff27-1e67-4ce9-8ac1-a7a6f4ab421a"
      },
      "execution_count": 2,
      "outputs": [
        {
          "output_type": "execute_result",
          "data": {
            "text/plain": [
              "   Serial No.  GRE Score  TOEFL Score  University Rating  SOP  LOR   CGPA  \\\n",
              "0           1        337          118                  4  4.5   4.5  9.65   \n",
              "1           2        324          107                  4  4.0   4.5  8.87   \n",
              "2           3        316          104                  3  3.0   3.5  8.00   \n",
              "3           4        322          110                  3  3.5   2.5  8.67   \n",
              "4           5        314          103                  2  2.0   3.0  8.21   \n",
              "\n",
              "   Research  Admission  \n",
              "0         1       0.92  \n",
              "1         1       0.76  \n",
              "2         1       0.72  \n",
              "3         1       0.80  \n",
              "4         0       0.65  "
            ],
            "text/html": [
              "\n",
              "  <div id=\"df-5e0432a9-8c24-4f31-b170-fdd811513b50\">\n",
              "    <div class=\"colab-df-container\">\n",
              "      <div>\n",
              "<style scoped>\n",
              "    .dataframe tbody tr th:only-of-type {\n",
              "        vertical-align: middle;\n",
              "    }\n",
              "\n",
              "    .dataframe tbody tr th {\n",
              "        vertical-align: top;\n",
              "    }\n",
              "\n",
              "    .dataframe thead th {\n",
              "        text-align: right;\n",
              "    }\n",
              "</style>\n",
              "<table border=\"1\" class=\"dataframe\">\n",
              "  <thead>\n",
              "    <tr style=\"text-align: right;\">\n",
              "      <th></th>\n",
              "      <th>Serial No.</th>\n",
              "      <th>GRE Score</th>\n",
              "      <th>TOEFL Score</th>\n",
              "      <th>University Rating</th>\n",
              "      <th>SOP</th>\n",
              "      <th>LOR</th>\n",
              "      <th>CGPA</th>\n",
              "      <th>Research</th>\n",
              "      <th>Admission</th>\n",
              "    </tr>\n",
              "  </thead>\n",
              "  <tbody>\n",
              "    <tr>\n",
              "      <th>0</th>\n",
              "      <td>1</td>\n",
              "      <td>337</td>\n",
              "      <td>118</td>\n",
              "      <td>4</td>\n",
              "      <td>4.5</td>\n",
              "      <td>4.5</td>\n",
              "      <td>9.65</td>\n",
              "      <td>1</td>\n",
              "      <td>0.92</td>\n",
              "    </tr>\n",
              "    <tr>\n",
              "      <th>1</th>\n",
              "      <td>2</td>\n",
              "      <td>324</td>\n",
              "      <td>107</td>\n",
              "      <td>4</td>\n",
              "      <td>4.0</td>\n",
              "      <td>4.5</td>\n",
              "      <td>8.87</td>\n",
              "      <td>1</td>\n",
              "      <td>0.76</td>\n",
              "    </tr>\n",
              "    <tr>\n",
              "      <th>2</th>\n",
              "      <td>3</td>\n",
              "      <td>316</td>\n",
              "      <td>104</td>\n",
              "      <td>3</td>\n",
              "      <td>3.0</td>\n",
              "      <td>3.5</td>\n",
              "      <td>8.00</td>\n",
              "      <td>1</td>\n",
              "      <td>0.72</td>\n",
              "    </tr>\n",
              "    <tr>\n",
              "      <th>3</th>\n",
              "      <td>4</td>\n",
              "      <td>322</td>\n",
              "      <td>110</td>\n",
              "      <td>3</td>\n",
              "      <td>3.5</td>\n",
              "      <td>2.5</td>\n",
              "      <td>8.67</td>\n",
              "      <td>1</td>\n",
              "      <td>0.80</td>\n",
              "    </tr>\n",
              "    <tr>\n",
              "      <th>4</th>\n",
              "      <td>5</td>\n",
              "      <td>314</td>\n",
              "      <td>103</td>\n",
              "      <td>2</td>\n",
              "      <td>2.0</td>\n",
              "      <td>3.0</td>\n",
              "      <td>8.21</td>\n",
              "      <td>0</td>\n",
              "      <td>0.65</td>\n",
              "    </tr>\n",
              "  </tbody>\n",
              "</table>\n",
              "</div>\n",
              "      <button class=\"colab-df-convert\" onclick=\"convertToInteractive('df-5e0432a9-8c24-4f31-b170-fdd811513b50')\"\n",
              "              title=\"Convert this dataframe to an interactive table.\"\n",
              "              style=\"display:none;\">\n",
              "        \n",
              "  <svg xmlns=\"http://www.w3.org/2000/svg\" height=\"24px\"viewBox=\"0 0 24 24\"\n",
              "       width=\"24px\">\n",
              "    <path d=\"M0 0h24v24H0V0z\" fill=\"none\"/>\n",
              "    <path d=\"M18.56 5.44l.94 2.06.94-2.06 2.06-.94-2.06-.94-.94-2.06-.94 2.06-2.06.94zm-11 1L8.5 8.5l.94-2.06 2.06-.94-2.06-.94L8.5 2.5l-.94 2.06-2.06.94zm10 10l.94 2.06.94-2.06 2.06-.94-2.06-.94-.94-2.06-.94 2.06-2.06.94z\"/><path d=\"M17.41 7.96l-1.37-1.37c-.4-.4-.92-.59-1.43-.59-.52 0-1.04.2-1.43.59L10.3 9.45l-7.72 7.72c-.78.78-.78 2.05 0 2.83L4 21.41c.39.39.9.59 1.41.59.51 0 1.02-.2 1.41-.59l7.78-7.78 2.81-2.81c.8-.78.8-2.07 0-2.86zM5.41 20L4 18.59l7.72-7.72 1.47 1.35L5.41 20z\"/>\n",
              "  </svg>\n",
              "      </button>\n",
              "      \n",
              "  <style>\n",
              "    .colab-df-container {\n",
              "      display:flex;\n",
              "      flex-wrap:wrap;\n",
              "      gap: 12px;\n",
              "    }\n",
              "\n",
              "    .colab-df-convert {\n",
              "      background-color: #E8F0FE;\n",
              "      border: none;\n",
              "      border-radius: 50%;\n",
              "      cursor: pointer;\n",
              "      display: none;\n",
              "      fill: #1967D2;\n",
              "      height: 32px;\n",
              "      padding: 0 0 0 0;\n",
              "      width: 32px;\n",
              "    }\n",
              "\n",
              "    .colab-df-convert:hover {\n",
              "      background-color: #E2EBFA;\n",
              "      box-shadow: 0px 1px 2px rgba(60, 64, 67, 0.3), 0px 1px 3px 1px rgba(60, 64, 67, 0.15);\n",
              "      fill: #174EA6;\n",
              "    }\n",
              "\n",
              "    [theme=dark] .colab-df-convert {\n",
              "      background-color: #3B4455;\n",
              "      fill: #D2E3FC;\n",
              "    }\n",
              "\n",
              "    [theme=dark] .colab-df-convert:hover {\n",
              "      background-color: #434B5C;\n",
              "      box-shadow: 0px 1px 3px 1px rgba(0, 0, 0, 0.15);\n",
              "      filter: drop-shadow(0px 1px 2px rgba(0, 0, 0, 0.3));\n",
              "      fill: #FFFFFF;\n",
              "    }\n",
              "  </style>\n",
              "\n",
              "      <script>\n",
              "        const buttonEl =\n",
              "          document.querySelector('#df-5e0432a9-8c24-4f31-b170-fdd811513b50 button.colab-df-convert');\n",
              "        buttonEl.style.display =\n",
              "          google.colab.kernel.accessAllowed ? 'block' : 'none';\n",
              "\n",
              "        async function convertToInteractive(key) {\n",
              "          const element = document.querySelector('#df-5e0432a9-8c24-4f31-b170-fdd811513b50');\n",
              "          const dataTable =\n",
              "            await google.colab.kernel.invokeFunction('convertToInteractive',\n",
              "                                                     [key], {});\n",
              "          if (!dataTable) return;\n",
              "\n",
              "          const docLinkHtml = 'Like what you see? Visit the ' +\n",
              "            '<a target=\"_blank\" href=https://colab.research.google.com/notebooks/data_table.ipynb>data table notebook</a>'\n",
              "            + ' to learn more about interactive tables.';\n",
              "          element.innerHTML = '';\n",
              "          dataTable['output_type'] = 'display_data';\n",
              "          await google.colab.output.renderOutput(dataTable, element);\n",
              "          const docLink = document.createElement('div');\n",
              "          docLink.innerHTML = docLinkHtml;\n",
              "          element.appendChild(docLink);\n",
              "        }\n",
              "      </script>\n",
              "    </div>\n",
              "  </div>\n",
              "  "
            ]
          },
          "metadata": {},
          "execution_count": 2
        }
      ]
    },
    {
      "cell_type": "code",
      "source": [
        "del data['Serial No.']\n",
        "data.head()"
      ],
      "metadata": {
        "colab": {
          "base_uri": "https://localhost:8080/",
          "height": 206
        },
        "id": "qrotmBjE-51J",
        "outputId": "fb3ce8f0-4522-448b-9fe4-458987663603"
      },
      "execution_count": 3,
      "outputs": [
        {
          "output_type": "execute_result",
          "data": {
            "text/plain": [
              "   GRE Score  TOEFL Score  University Rating  SOP  LOR   CGPA  Research  \\\n",
              "0        337          118                  4  4.5   4.5  9.65         1   \n",
              "1        324          107                  4  4.0   4.5  8.87         1   \n",
              "2        316          104                  3  3.0   3.5  8.00         1   \n",
              "3        322          110                  3  3.5   2.5  8.67         1   \n",
              "4        314          103                  2  2.0   3.0  8.21         0   \n",
              "\n",
              "   Admission  \n",
              "0       0.92  \n",
              "1       0.76  \n",
              "2       0.72  \n",
              "3       0.80  \n",
              "4       0.65  "
            ],
            "text/html": [
              "\n",
              "  <div id=\"df-7e855484-6b3c-4c96-96d2-bda4ea4b9ad6\">\n",
              "    <div class=\"colab-df-container\">\n",
              "      <div>\n",
              "<style scoped>\n",
              "    .dataframe tbody tr th:only-of-type {\n",
              "        vertical-align: middle;\n",
              "    }\n",
              "\n",
              "    .dataframe tbody tr th {\n",
              "        vertical-align: top;\n",
              "    }\n",
              "\n",
              "    .dataframe thead th {\n",
              "        text-align: right;\n",
              "    }\n",
              "</style>\n",
              "<table border=\"1\" class=\"dataframe\">\n",
              "  <thead>\n",
              "    <tr style=\"text-align: right;\">\n",
              "      <th></th>\n",
              "      <th>GRE Score</th>\n",
              "      <th>TOEFL Score</th>\n",
              "      <th>University Rating</th>\n",
              "      <th>SOP</th>\n",
              "      <th>LOR</th>\n",
              "      <th>CGPA</th>\n",
              "      <th>Research</th>\n",
              "      <th>Admission</th>\n",
              "    </tr>\n",
              "  </thead>\n",
              "  <tbody>\n",
              "    <tr>\n",
              "      <th>0</th>\n",
              "      <td>337</td>\n",
              "      <td>118</td>\n",
              "      <td>4</td>\n",
              "      <td>4.5</td>\n",
              "      <td>4.5</td>\n",
              "      <td>9.65</td>\n",
              "      <td>1</td>\n",
              "      <td>0.92</td>\n",
              "    </tr>\n",
              "    <tr>\n",
              "      <th>1</th>\n",
              "      <td>324</td>\n",
              "      <td>107</td>\n",
              "      <td>4</td>\n",
              "      <td>4.0</td>\n",
              "      <td>4.5</td>\n",
              "      <td>8.87</td>\n",
              "      <td>1</td>\n",
              "      <td>0.76</td>\n",
              "    </tr>\n",
              "    <tr>\n",
              "      <th>2</th>\n",
              "      <td>316</td>\n",
              "      <td>104</td>\n",
              "      <td>3</td>\n",
              "      <td>3.0</td>\n",
              "      <td>3.5</td>\n",
              "      <td>8.00</td>\n",
              "      <td>1</td>\n",
              "      <td>0.72</td>\n",
              "    </tr>\n",
              "    <tr>\n",
              "      <th>3</th>\n",
              "      <td>322</td>\n",
              "      <td>110</td>\n",
              "      <td>3</td>\n",
              "      <td>3.5</td>\n",
              "      <td>2.5</td>\n",
              "      <td>8.67</td>\n",
              "      <td>1</td>\n",
              "      <td>0.80</td>\n",
              "    </tr>\n",
              "    <tr>\n",
              "      <th>4</th>\n",
              "      <td>314</td>\n",
              "      <td>103</td>\n",
              "      <td>2</td>\n",
              "      <td>2.0</td>\n",
              "      <td>3.0</td>\n",
              "      <td>8.21</td>\n",
              "      <td>0</td>\n",
              "      <td>0.65</td>\n",
              "    </tr>\n",
              "  </tbody>\n",
              "</table>\n",
              "</div>\n",
              "      <button class=\"colab-df-convert\" onclick=\"convertToInteractive('df-7e855484-6b3c-4c96-96d2-bda4ea4b9ad6')\"\n",
              "              title=\"Convert this dataframe to an interactive table.\"\n",
              "              style=\"display:none;\">\n",
              "        \n",
              "  <svg xmlns=\"http://www.w3.org/2000/svg\" height=\"24px\"viewBox=\"0 0 24 24\"\n",
              "       width=\"24px\">\n",
              "    <path d=\"M0 0h24v24H0V0z\" fill=\"none\"/>\n",
              "    <path d=\"M18.56 5.44l.94 2.06.94-2.06 2.06-.94-2.06-.94-.94-2.06-.94 2.06-2.06.94zm-11 1L8.5 8.5l.94-2.06 2.06-.94-2.06-.94L8.5 2.5l-.94 2.06-2.06.94zm10 10l.94 2.06.94-2.06 2.06-.94-2.06-.94-.94-2.06-.94 2.06-2.06.94z\"/><path d=\"M17.41 7.96l-1.37-1.37c-.4-.4-.92-.59-1.43-.59-.52 0-1.04.2-1.43.59L10.3 9.45l-7.72 7.72c-.78.78-.78 2.05 0 2.83L4 21.41c.39.39.9.59 1.41.59.51 0 1.02-.2 1.41-.59l7.78-7.78 2.81-2.81c.8-.78.8-2.07 0-2.86zM5.41 20L4 18.59l7.72-7.72 1.47 1.35L5.41 20z\"/>\n",
              "  </svg>\n",
              "      </button>\n",
              "      \n",
              "  <style>\n",
              "    .colab-df-container {\n",
              "      display:flex;\n",
              "      flex-wrap:wrap;\n",
              "      gap: 12px;\n",
              "    }\n",
              "\n",
              "    .colab-df-convert {\n",
              "      background-color: #E8F0FE;\n",
              "      border: none;\n",
              "      border-radius: 50%;\n",
              "      cursor: pointer;\n",
              "      display: none;\n",
              "      fill: #1967D2;\n",
              "      height: 32px;\n",
              "      padding: 0 0 0 0;\n",
              "      width: 32px;\n",
              "    }\n",
              "\n",
              "    .colab-df-convert:hover {\n",
              "      background-color: #E2EBFA;\n",
              "      box-shadow: 0px 1px 2px rgba(60, 64, 67, 0.3), 0px 1px 3px 1px rgba(60, 64, 67, 0.15);\n",
              "      fill: #174EA6;\n",
              "    }\n",
              "\n",
              "    [theme=dark] .colab-df-convert {\n",
              "      background-color: #3B4455;\n",
              "      fill: #D2E3FC;\n",
              "    }\n",
              "\n",
              "    [theme=dark] .colab-df-convert:hover {\n",
              "      background-color: #434B5C;\n",
              "      box-shadow: 0px 1px 3px 1px rgba(0, 0, 0, 0.15);\n",
              "      filter: drop-shadow(0px 1px 2px rgba(0, 0, 0, 0.3));\n",
              "      fill: #FFFFFF;\n",
              "    }\n",
              "  </style>\n",
              "\n",
              "      <script>\n",
              "        const buttonEl =\n",
              "          document.querySelector('#df-7e855484-6b3c-4c96-96d2-bda4ea4b9ad6 button.colab-df-convert');\n",
              "        buttonEl.style.display =\n",
              "          google.colab.kernel.accessAllowed ? 'block' : 'none';\n",
              "\n",
              "        async function convertToInteractive(key) {\n",
              "          const element = document.querySelector('#df-7e855484-6b3c-4c96-96d2-bda4ea4b9ad6');\n",
              "          const dataTable =\n",
              "            await google.colab.kernel.invokeFunction('convertToInteractive',\n",
              "                                                     [key], {});\n",
              "          if (!dataTable) return;\n",
              "\n",
              "          const docLinkHtml = 'Like what you see? Visit the ' +\n",
              "            '<a target=\"_blank\" href=https://colab.research.google.com/notebooks/data_table.ipynb>data table notebook</a>'\n",
              "            + ' to learn more about interactive tables.';\n",
              "          element.innerHTML = '';\n",
              "          dataTable['output_type'] = 'display_data';\n",
              "          await google.colab.output.renderOutput(dataTable, element);\n",
              "          const docLink = document.createElement('div');\n",
              "          docLink.innerHTML = docLinkHtml;\n",
              "          element.appendChild(docLink);\n",
              "        }\n",
              "      </script>\n",
              "    </div>\n",
              "  </div>\n",
              "  "
            ]
          },
          "metadata": {},
          "execution_count": 3
        }
      ]
    },
    {
      "cell_type": "code",
      "source": [
        "for i in range(0,500):\n",
        "  if(data['Admission'][i]>0.72):\n",
        "    data['Admission'][i] = 1\n",
        "  else:\n",
        "    data['Admission'][i] = 0"
      ],
      "metadata": {
        "colab": {
          "base_uri": "https://localhost:8080/"
        },
        "id": "RG8DilX5_Efk",
        "outputId": "59908944-040b-4d65-da61-dd9d6294ebec"
      },
      "execution_count": 4,
      "outputs": [
        {
          "output_type": "stream",
          "name": "stderr",
          "text": [
            "/usr/local/lib/python3.7/dist-packages/ipykernel_launcher.py:3: SettingWithCopyWarning: \n",
            "A value is trying to be set on a copy of a slice from a DataFrame\n",
            "\n",
            "See the caveats in the documentation: https://pandas.pydata.org/pandas-docs/stable/user_guide/indexing.html#returning-a-view-versus-a-copy\n",
            "  This is separate from the ipykernel package so we can avoid doing imports until\n",
            "/usr/local/lib/python3.7/dist-packages/ipykernel_launcher.py:5: SettingWithCopyWarning: \n",
            "A value is trying to be set on a copy of a slice from a DataFrame\n",
            "\n",
            "See the caveats in the documentation: https://pandas.pydata.org/pandas-docs/stable/user_guide/indexing.html#returning-a-view-versus-a-copy\n",
            "  \"\"\"\n"
          ]
        }
      ]
    },
    {
      "cell_type": "code",
      "source": [
        "data['Admission'] = data['Admission'].astype(np.int32)"
      ],
      "metadata": {
        "id": "K6CQfuc0_MNt"
      },
      "execution_count": 5,
      "outputs": []
    },
    {
      "cell_type": "code",
      "source": [
        "data['Admission'].value_counts()"
      ],
      "metadata": {
        "colab": {
          "base_uri": "https://localhost:8080/"
        },
        "id": "lD228FGOBf0H",
        "outputId": "0ed4a0ad-10e9-46d6-9870-7cb6e82caa1a"
      },
      "execution_count": 6,
      "outputs": [
        {
          "output_type": "execute_result",
          "data": {
            "text/plain": [
              "0    252\n",
              "1    248\n",
              "Name: Admission, dtype: int64"
            ]
          },
          "metadata": {},
          "execution_count": 6
        }
      ]
    },
    {
      "cell_type": "code",
      "source": [
        "plt.figure(figsize=(8,8))\n",
        "sns.scatterplot(data=data,x='GRE Score',y='TOEFL Score',hue='Admission')\n",
        "# High GRE and TOEFL Score means very high chance of admission"
      ],
      "metadata": {
        "colab": {
          "base_uri": "https://localhost:8080/",
          "height": 515
        },
        "id": "sEz2fo2A_7Od",
        "outputId": "6c1b0156-d55d-4bd7-d7e7-4af7aac75ccd"
      },
      "execution_count": 7,
      "outputs": [
        {
          "output_type": "execute_result",
          "data": {
            "text/plain": [
              "<matplotlib.axes._subplots.AxesSubplot at 0x7f48c80ef3d0>"
            ]
          },
          "metadata": {},
          "execution_count": 7
        },
        {
          "output_type": "display_data",
          "data": {
            "text/plain": [
              "<Figure size 576x576 with 1 Axes>"
            ],
            "image/png": "[encoded data removed]"
          },
          "metadata": {
            "needs_background": "light"
          }
        }
      ]
    },
    {
      "cell_type": "code",
      "source": [
        "data['University Rating'].value_counts()"
      ],
      "metadata": {
        "colab": {
          "base_uri": "https://localhost:8080/"
        },
        "id": "aPndTUrWD6OR",
        "outputId": "2256502d-9772-40f1-8fae-67037b340613"
      },
      "execution_count": 8,
      "outputs": [
        {
          "output_type": "execute_result",
          "data": {
            "text/plain": [
              "3    162\n",
              "2    126\n",
              "4    105\n",
              "5     73\n",
              "1     34\n",
              "Name: University Rating, dtype: int64"
            ]
          },
          "metadata": {},
          "execution_count": 8
        }
      ]
    },
    {
      "cell_type": "code",
      "source": [
        "sns.countplot(data=data,x='University Rating',hue='Admission')\n",
        "# Therefore can be easily seen it is very tough to get into Universities with Rating 1 or 2"
      ],
      "metadata": {
        "colab": {
          "base_uri": "https://localhost:8080/",
          "height": 297
        },
        "id": "arpr4Hi6DlE-",
        "outputId": "c4fd3a98-79f7-483e-97e3-51abbc459775"
      },
      "execution_count": 9,
      "outputs": [
        {
          "output_type": "execute_result",
          "data": {
            "text/plain": [
              "<matplotlib.axes._subplots.AxesSubplot at 0x7f48c80079d0>"
            ]
          },
          "metadata": {},
          "execution_count": 9
        },
        {
          "output_type": "display_data",
          "data": {
            "text/plain": [
              "<Figure size 432x288 with 1 Axes>"
            ],
            "image/png": "[encoded data removed]"
          },
          "metadata": {
            "needs_background": "light"
          }
        }
      ]
    },
    {
      "cell_type": "code",
      "source": [
        "data['LOR'] = data['LOR ']\n",
        "del data['LOR ']"
      ],
      "metadata": {
        "id": "lxB0CiT2Ehs9"
      },
      "execution_count": 10,
      "outputs": []
    },
    {
      "cell_type": "code",
      "source": [
        "sns.scatterplot(data=data,x='CGPA',y='University Rating',hue='Admission')"
      ],
      "metadata": {
        "colab": {
          "base_uri": "https://localhost:8080/",
          "height": 297
        },
        "id": "QYTEdKBZFR8e",
        "outputId": "29467d9f-f422-47b6-e916-ec129898797f"
      },
      "execution_count": 11,
      "outputs": [
        {
          "output_type": "execute_result",
          "data": {
            "text/plain": [
              "<matplotlib.axes._subplots.AxesSubplot at 0x7f48c7ffc8d0>"
            ]
          },
          "metadata": {},
          "execution_count": 11
        },
        {
          "output_type": "display_data",
          "data": {
            "text/plain": [
              "<Figure size 432x288 with 1 Axes>"
            ],
            "image/png": "[encoded data removed]"
          },
          "metadata": {
            "needs_background": "light"
          }
        }
      ]
    },
    {
      "cell_type": "code",
      "source": [
        "# Model Building\n",
        "X = data.iloc[:,data.columns!='Admission']\n",
        "y = data['Admission']"
      ],
      "metadata": {
        "id": "d7WydtxgGM20"
      },
      "execution_count": 12,
      "outputs": []
    },
    {
      "cell_type": "code",
      "source": [
        "from sklearn.model_selection import train_test_split\n",
        "\n",
        "x_train,x_test,y_train,y_test = train_test_split(X,y,random_state=0)"
      ],
      "metadata": {
        "id": "gDSN5P4xHqBc"
      },
      "execution_count": 13,
      "outputs": []
    },
    {
      "cell_type": "code",
      "source": [
        "import keras\n",
        "from keras.models import Sequential\n",
        "from keras.layers import Dense"
      ],
      "metadata": {
        "id": "P30E9cYEHrMh"
      },
      "execution_count": 14,
      "outputs": []
    },
    {
      "cell_type": "code",
      "source": [
        "clf = Sequential()"
      ],
      "metadata": {
        "id": "mvfMhHQxJGCY"
      },
      "execution_count": 15,
      "outputs": []
    },
    {
      "cell_type": "code",
      "source": [
        "clf.add(Dense(units = 20, kernel_initializer = 'he_uniform',activation='relu',input_dim = 7))\n",
        "\n",
        "# clf.add(Dense(units = 10, kernel_initializer = 'he_uniform',activation='relu'))\n",
        "\n",
        "# clf.add(Dense(units = 5, kernel_initializer = 'he_uniform',activation='relu'))\n",
        "\n",
        "clf.add(Dense(units = 1, kernel_initializer = 'glorot_uniform', activation = 'sigmoid'))"
      ],
      "metadata": {
        "id": "XY-878D3JEJU"
      },
      "execution_count": 16,
      "outputs": []
    },
    {
      "cell_type": "code",
      "source": [
        "clf.compile(optimizer='RMSprop',loss='binary_crossentropy',metrics=['accuracy'])"
      ],
      "metadata": {
        "id": "EAOkBacCJ3E5"
      },
      "execution_count": 17,
      "outputs": []
    },
    {
      "cell_type": "code",
      "source": [
        "clf.fit(x_train, y_train, batch_size=5, epochs = 75)"
      ],
      "metadata": {
        "colab": {
          "base_uri": "https://localhost:8080/"
        },
        "id": "A-BX4GY7KMnL",
        "outputId": "5e96906c-1d46-4e6a-a787-11f09d348cf2"
      },
      "execution_count": 18,
      "outputs": [
        {
          "output_type": "stream",
          "name": "stdout",
          "text": [
            "Epoch 1/75\n",
            "75/75 [==============================] - 1s 1ms/step - loss: 3.7944 - accuracy: 0.5493\n",
            "Epoch 2/75\n",
            "75/75 [==============================] - 0s 1ms/step - loss: 0.9822 - accuracy: 0.5733\n",
            "Epoch 3/75\n",
            "75/75 [==============================] - 0s 1ms/step - loss: 0.9862 - accuracy: 0.5893\n",
            "Epoch 4/75\n",
            "75/75 [==============================] - 0s 1ms/step - loss: 0.8881 - accuracy: 0.6213\n",
            "Epoch 5/75\n",
            "75/75 [==============================] - 0s 1ms/step - loss: 0.9178 - accuracy: 0.6267\n",
            "Epoch 6/75\n",
            "75/75 [==============================] - 0s 2ms/step - loss: 0.8925 - accuracy: 0.6027\n",
            "Epoch 7/75\n",
            "75/75 [==============================] - 0s 2ms/step - loss: 0.8509 - accuracy: 0.5893\n",
            "Epoch 8/75\n",
            "75/75 [==============================] - 0s 2ms/step - loss: 0.9295 - accuracy: 0.6213\n",
            "Epoch 9/75\n",
            "75/75 [==============================] - 0s 2ms/step - loss: 0.8738 - accuracy: 0.6000\n",
            "Epoch 10/75\n",
            "75/75 [==============================] - 0s 2ms/step - loss: 0.8555 - accuracy: 0.6533\n",
            "Epoch 11/75\n",
            "75/75 [==============================] - 0s 2ms/step - loss: 0.8063 - accuracy: 0.6693\n",
            "Epoch 12/75\n",
            "75/75 [==============================] - 0s 2ms/step - loss: 0.7844 - accuracy: 0.6400\n",
            "Epoch 13/75\n",
            "75/75 [==============================] - 0s 2ms/step - loss: 0.7545 - accuracy: 0.6853\n",
            "Epoch 14/75\n",
            "75/75 [==============================] - 0s 2ms/step - loss: 0.7813 - accuracy: 0.6667\n",
            "Epoch 15/75\n",
            "75/75 [==============================] - 0s 2ms/step - loss: 0.7277 - accuracy: 0.6747\n",
            "Epoch 16/75\n",
            "75/75 [==============================] - 0s 2ms/step - loss: 0.8163 - accuracy: 0.6293\n",
            "Epoch 17/75\n",
            "75/75 [==============================] - 0s 2ms/step - loss: 0.7304 - accuracy: 0.6960\n",
            "Epoch 18/75\n",
            "75/75 [==============================] - 0s 2ms/step - loss: 0.7354 - accuracy: 0.6693\n",
            "Epoch 19/75\n",
            "75/75 [==============================] - 0s 2ms/step - loss: 0.7391 - accuracy: 0.6907\n",
            "Epoch 20/75\n",
            "75/75 [==============================] - 0s 3ms/step - loss: 0.6704 - accuracy: 0.7013\n",
            "Epoch 21/75\n",
            "75/75 [==============================] - 0s 2ms/step - loss: 0.7382 - accuracy: 0.7067\n",
            "Epoch 22/75\n",
            "75/75 [==============================] - 0s 4ms/step - loss: 0.6476 - accuracy: 0.7040\n",
            "Epoch 23/75\n",
            "75/75 [==============================] - 0s 3ms/step - loss: 0.6961 - accuracy: 0.7200\n",
            "Epoch 24/75\n",
            "75/75 [==============================] - 0s 3ms/step - loss: 0.7207 - accuracy: 0.6800\n",
            "Epoch 25/75\n",
            "75/75 [==============================] - 0s 2ms/step - loss: 0.6315 - accuracy: 0.7173\n",
            "Epoch 26/75\n",
            "75/75 [==============================] - 0s 3ms/step - loss: 0.6813 - accuracy: 0.7333\n",
            "Epoch 27/75\n",
            "75/75 [==============================] - 0s 3ms/step - loss: 0.7697 - accuracy: 0.6987\n",
            "Epoch 28/75\n",
            "75/75 [==============================] - 0s 2ms/step - loss: 0.6299 - accuracy: 0.7440\n",
            "Epoch 29/75\n",
            "75/75 [==============================] - 0s 3ms/step - loss: 0.6448 - accuracy: 0.7147\n",
            "Epoch 30/75\n",
            "75/75 [==============================] - 0s 2ms/step - loss: 0.6970 - accuracy: 0.6853\n",
            "Epoch 31/75\n",
            "75/75 [==============================] - 0s 2ms/step - loss: 0.6397 - accuracy: 0.7280\n",
            "Epoch 32/75\n",
            "75/75 [==============================] - 0s 3ms/step - loss: 0.6594 - accuracy: 0.7360\n",
            "Epoch 33/75\n",
            "75/75 [==============================] - 0s 2ms/step - loss: 0.6591 - accuracy: 0.7307\n",
            "Epoch 34/75\n",
            "75/75 [==============================] - 0s 2ms/step - loss: 0.6116 - accuracy: 0.7387\n",
            "Epoch 35/75\n",
            "75/75 [==============================] - 0s 3ms/step - loss: 0.6696 - accuracy: 0.7280\n",
            "Epoch 36/75\n",
            "75/75 [==============================] - 0s 3ms/step - loss: 0.6777 - accuracy: 0.6907\n",
            "Epoch 37/75\n",
            "75/75 [==============================] - 0s 2ms/step - loss: 0.6349 - accuracy: 0.7253\n",
            "Epoch 38/75\n",
            "75/75 [==============================] - 0s 3ms/step - loss: 0.6603 - accuracy: 0.7307\n",
            "Epoch 39/75\n",
            "75/75 [==============================] - 0s 2ms/step - loss: 0.6139 - accuracy: 0.7360\n",
            "Epoch 40/75\n",
            "75/75 [==============================] - 0s 2ms/step - loss: 0.6175 - accuracy: 0.7280\n",
            "Epoch 41/75\n",
            "75/75 [==============================] - 0s 3ms/step - loss: 0.6006 - accuracy: 0.7600\n",
            "Epoch 42/75\n",
            "75/75 [==============================] - 0s 2ms/step - loss: 0.6160 - accuracy: 0.7253\n",
            "Epoch 43/75\n",
            "75/75 [==============================] - 0s 2ms/step - loss: 0.6255 - accuracy: 0.7173\n",
            "Epoch 44/75\n",
            "75/75 [==============================] - 0s 2ms/step - loss: 0.6682 - accuracy: 0.7200\n",
            "Epoch 45/75\n",
            "75/75 [==============================] - 0s 3ms/step - loss: 0.6533 - accuracy: 0.7253\n",
            "Epoch 46/75\n",
            "75/75 [==============================] - 0s 3ms/step - loss: 0.6573 - accuracy: 0.7200\n",
            "Epoch 47/75\n",
            "75/75 [==============================] - 0s 4ms/step - loss: 0.6005 - accuracy: 0.7253\n",
            "Epoch 48/75\n",
            "75/75 [==============================] - 0s 3ms/step - loss: 0.6558 - accuracy: 0.7360\n",
            "Epoch 49/75\n",
            "75/75 [==============================] - 0s 2ms/step - loss: 0.5783 - accuracy: 0.7733\n",
            "Epoch 50/75\n",
            "75/75 [==============================] - 0s 3ms/step - loss: 0.6338 - accuracy: 0.7387\n",
            "Epoch 51/75\n",
            "75/75 [==============================] - 0s 3ms/step - loss: 0.6074 - accuracy: 0.7520\n",
            "Epoch 52/75\n",
            "75/75 [==============================] - 0s 2ms/step - loss: 0.5898 - accuracy: 0.7493\n",
            "Epoch 53/75\n",
            "75/75 [==============================] - 0s 2ms/step - loss: 0.6138 - accuracy: 0.7413\n",
            "Epoch 54/75\n",
            "75/75 [==============================] - 0s 2ms/step - loss: 0.6417 - accuracy: 0.7493\n",
            "Epoch 55/75\n",
            "75/75 [==============================] - 0s 3ms/step - loss: 0.5790 - accuracy: 0.7333\n",
            "Epoch 56/75\n",
            "75/75 [==============================] - 0s 2ms/step - loss: 0.6482 - accuracy: 0.7600\n",
            "Epoch 57/75\n",
            "75/75 [==============================] - 0s 3ms/step - loss: 0.6129 - accuracy: 0.7680\n",
            "Epoch 58/75\n",
            "75/75 [==============================] - 0s 3ms/step - loss: 0.5960 - accuracy: 0.7493\n",
            "Epoch 59/75\n",
            "75/75 [==============================] - 0s 4ms/step - loss: 0.6781 - accuracy: 0.7253\n",
            "Epoch 60/75\n",
            "75/75 [==============================] - 0s 3ms/step - loss: 0.6741 - accuracy: 0.7547\n",
            "Epoch 61/75\n",
            "75/75 [==============================] - 0s 3ms/step - loss: 0.5992 - accuracy: 0.7467\n",
            "Epoch 62/75\n",
            "75/75 [==============================] - 0s 3ms/step - loss: 0.6678 - accuracy: 0.7307\n",
            "Epoch 63/75\n",
            "75/75 [==============================] - 0s 3ms/step - loss: 0.6046 - accuracy: 0.7573\n",
            "Epoch 64/75\n",
            "75/75 [==============================] - 0s 3ms/step - loss: 0.6354 - accuracy: 0.7600\n",
            "Epoch 65/75\n",
            "75/75 [==============================] - 0s 2ms/step - loss: 0.5818 - accuracy: 0.7653\n",
            "Epoch 66/75\n",
            "75/75 [==============================] - 0s 3ms/step - loss: 0.6033 - accuracy: 0.7653\n",
            "Epoch 67/75\n",
            "75/75 [==============================] - 0s 4ms/step - loss: 0.6238 - accuracy: 0.7333\n",
            "Epoch 68/75\n",
            "75/75 [==============================] - 0s 4ms/step - loss: 0.5332 - accuracy: 0.7680\n",
            "Epoch 69/75\n",
            "75/75 [==============================] - 0s 4ms/step - loss: 0.5809 - accuracy: 0.7707\n",
            "Epoch 70/75\n",
            "75/75 [==============================] - 0s 3ms/step - loss: 0.6232 - accuracy: 0.7440\n",
            "Epoch 71/75\n",
            "75/75 [==============================] - 0s 3ms/step - loss: 0.5758 - accuracy: 0.7680\n",
            "Epoch 72/75\n",
            "75/75 [==============================] - 0s 4ms/step - loss: 0.5932 - accuracy: 0.7520\n",
            "Epoch 73/75\n",
            "75/75 [==============================] - 0s 3ms/step - loss: 0.5630 - accuracy: 0.7867\n",
            "Epoch 74/75\n",
            "75/75 [==============================] - 0s 3ms/step - loss: 0.6125 - accuracy: 0.7653\n",
            "Epoch 75/75\n",
            "75/75 [==============================] - 0s 3ms/step - loss: 0.6055 - accuracy: 0.7760\n"
          ]
        },
        {
          "output_type": "execute_result",
          "data": {
            "text/plain": [
              "<keras.callbacks.History at 0x7f48595d1550>"
            ]
          },
          "metadata": {},
          "execution_count": 18
        }
      ]
    },
    {
      "cell_type": "code",
      "source": [
        "y_pred = clf.predict(x_test).reshape(125,)"
      ],
      "metadata": {
        "id": "uvK8YgzBKTYA"
      },
      "execution_count": 19,
      "outputs": []
    },
    {
      "cell_type": "code",
      "source": [
        "y_pred_true = []\n",
        "for i in y_pred:\n",
        "  if(i>0.72):\n",
        "    y_pred_true.append(1)\n",
        "  else:\n",
        "    y_pred_true.append(0)"
      ],
      "metadata": {
        "id": "CUpvZ-rKLZv2"
      },
      "execution_count": 20,
      "outputs": []
    },
    {
      "cell_type": "code",
      "source": [
        "from sklearn.metrics import confusion_matrix,accuracy_score"
      ],
      "metadata": {
        "id": "6nsaQHOrKk5d"
      },
      "execution_count": 21,
      "outputs": []
    },
    {
      "cell_type": "code",
      "source": [
        "confusion_matrix(y_test,y_pred_true)"
      ],
      "metadata": {
        "colab": {
          "base_uri": "https://localhost:8080/"
        },
        "id": "nkFL05LPL1qW",
        "outputId": "5348c101-4fbf-40bf-d580-e211641da326"
      },
      "execution_count": 22,
      "outputs": [
        {
          "output_type": "execute_result",
          "data": {
            "text/plain": [
              "array([[51, 16],\n",
              "       [ 9, 49]])"
            ]
          },
          "metadata": {},
          "execution_count": 22
        }
      ]
    },
    {
      "cell_type": "code",
      "source": [
        "accuracy_score(y_test,y_pred_true)*100"
      ],
      "metadata": {
        "colab": {
          "base_uri": "https://localhost:8080/"
        },
        "id": "UM_ipAfyL2IT",
        "outputId": "3d3690dd-8709-4b08-81dd-a092ace3c874"
      },
      "execution_count": 23,
      "outputs": [
        {
          "output_type": "execute_result",
          "data": {
            "text/plain": [
              "80.0"
            ]
          },
          "metadata": {},
          "execution_count": 23
        }
      ]
    }
  ]
}